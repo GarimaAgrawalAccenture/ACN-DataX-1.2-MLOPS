{
  "cells": [
    {
      "cell_type": "markdown",
      "source": [
        "# Loading sample data into Delta Lake on ADLS 2\r\n"
      ],
      "metadata": {
        "nteract": {
          "transient": {
            "deleting": false
          }
        }
      }
    },
    {
      "cell_type": "markdown",
      "source": [
        "\r\n",
        "# Download the sample data"
      ],
      "metadata": {
        "nteract": {
          "transient": {
            "deleting": false
          }
        }
      }
    },
    {
      "cell_type": "code",
      "source": [
        "from pyspark import SparkFiles\r\n",
        "file_url = \"http://storage.googleapis.com/download.tensorflow.org/data/heart.csv\"\r\n",
        "spark.sparkContext.addFile(file_url)\r\n",
        "\r\n",
        "heart = spark.read.csv(\"file://\"+SparkFiles.get(\"heart.csv\"), header=True, inferSchema= True)\r\n",
        "display(heart)"
      ],
      "outputs": [],
      "execution_count": null,
      "metadata": {}
    },
    {
      "cell_type": "markdown",
      "source": [
        "# Write data into Delta Lake\r\n",
        "Pre-requsities: </br>\r\n",
        "1. Create a ADLS Gen 2 storage account </br>\r\n",
        "2. Create a Service Principle - https://docs.microsoft.com/en-us/azure/databricks/data/data-sources/azure/azure-storage#--access-azure-data-lake-storage-gen2-or-blob-storage-using-oauth-20-with-an-azure-service-principal"
      ],
      "metadata": {
        "nteract": {
          "transient": {
            "deleting": false
          }
        }
      }
    },
    {
      "cell_type": "code",
      "source": [
        "write_format = 'delta'\r\n",
        "write_mode = 'overwrite'\r\n",
        "save_path = \"abfss://<blob container>@<storage-account>.dfs.core.windows.net/\"\r\n",
        "peopleTablePath = save_path + 'delta-tables/heart'\r\n",
        "\r\n",
        "spark.conf.set(\"fs.azure.account.auth.type.<storage-account>.dfs.core.windows.net\", \"OAuth\")\r\n",
        "spark.conf.set(\"fs.azure.account.oauth.provider.type.<storage-account>.dfs.core.windows.net\", \"org.apache.hadoop.fs.azurebfs.oauth2.ClientCredsTokenProvider\")\r\n",
        "spark.conf.set(\"fs.azure.account.oauth2.client.id.<storage-account>.dfs.core.windows.net\", \"<client-id>\")\r\n",
        "spark.conf.set(\"fs.azure.account.oauth2.client.secret.<storage-account>.dfs.core.windows.net\", \"<secret>\")\r\n",
        "spark.conf.set(\"fs.azure.account.oauth2.client.endpoint.<storage-account>.dfs.core.windows.net\", \"https://login.microsoftonline.com/<tenant-id>/oauth2/token\")"
      ],
      "outputs": [],
      "execution_count": null,
      "metadata": {
        "jupyter": {
          "source_hidden": false,
          "outputs_hidden": false
        },
        "nteract": {
          "transient": {
            "deleting": false
          }
        }
      }
    },
    {
      "cell_type": "code",
      "source": [
        "\r\n",
        "# Write the data to its target.\r\n",
        "heart.write \\\r\n",
        "  .format(write_format) \\\r\n",
        "  .mode(write_mode) \\\r\n",
        "  .saveAsTable(\"heart_data\", path=peopleTablePath)\r\n"
      ],
      "outputs": [],
      "execution_count": null,
      "metadata": {
        "jupyter": {
          "source_hidden": false,
          "outputs_hidden": false
        },
        "nteract": {
          "transient": {
            "deleting": false
          }
        }
      }
    }
  ],
  "metadata": {
    "kernelspec": {
      "name": "python38-azureml",
      "language": "python",
      "display_name": "Python 3.8 - AzureML"
    },
    "language_info": {
      "name": "python",
      "version": "3.8.5",
      "mimetype": "text/x-python",
      "codemirror_mode": {
        "name": "ipython",
        "version": 3
      },
      "pygments_lexer": "ipython3",
      "nbconvert_exporter": "python",
      "file_extension": ".py"
    },
    "nteract": {
      "version": "nteract-front-end@1.0.0"
    },
    "kernel_info": {
      "name": "python38-azureml"
    }
  },
  "nbformat": 4,
  "nbformat_minor": 0
}