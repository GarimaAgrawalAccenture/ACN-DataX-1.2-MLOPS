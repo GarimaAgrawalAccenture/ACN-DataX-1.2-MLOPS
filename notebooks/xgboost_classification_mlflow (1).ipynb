{
  "cells": [
    {
      "cell_type": "markdown",
      "source": [
        "# Training and tracking an XGBoost classifier with MLflow in AML\r\n",
        "\r\n",
        "This notebook is the similiar with the classification training we have in ADB"
      ],
      "metadata": {
        "nteract": {
          "transient": {
            "deleting": false
          }
        }
      }
    },
    {
      "cell_type": "code",
      "source": [
        "# Ensure you have the dependencies for this notebook\r\n",
        "!pip install -r xgboost_classification_mlflow.txt"
      ],
      "outputs": [
        {
          "output_type": "stream",
          "name": "stdout",
          "text": "Requirement already satisfied: xgboost in /anaconda/envs/azureml_py38/lib/python3.8/site-packages (from -r xgboost_classification_mlflow.txt (line 1)) (1.3.3)\nRequirement already satisfied: mlflow in /anaconda/envs/azureml_py38/lib/python3.8/site-packages (from -r xgboost_classification_mlflow.txt (line 2)) (1.24.0)\nRequirement already satisfied: azureml-mlflow in /anaconda/envs/azureml_py38/lib/python3.8/site-packages (from -r xgboost_classification_mlflow.txt (line 3)) (1.40.0)\nRequirement already satisfied: scikit-learn in /anaconda/envs/azureml_py38/lib/python3.8/site-packages (from -r xgboost_classification_mlflow.txt (line 4)) (0.22.1)\nRequirement already satisfied: pandas in /anaconda/envs/azureml_py38/lib/python3.8/site-packages (from -r xgboost_classification_mlflow.txt (line 5)) (1.1.5)\nRequirement already satisfied: numpy in /anaconda/envs/azureml_py38/lib/python3.8/site-packages (from -r xgboost_classification_mlflow.txt (line 6)) (1.19.0)\nRequirement already satisfied: matplotlib in /anaconda/envs/azureml_py38/lib/python3.8/site-packages (from -r xgboost_classification_mlflow.txt (line 7)) (3.2.1)\nRequirement already satisfied: scipy in /anaconda/envs/azureml_py38/lib/python3.8/site-packages (from xgboost->-r xgboost_classification_mlflow.txt (line 1)) (1.5.2)\nRequirement already satisfied: querystring-parser in /anaconda/envs/azureml_py38/lib/python3.8/site-packages (from mlflow->-r xgboost_classification_mlflow.txt (line 2)) (1.2.4)\nRequirement already satisfied: alembic in /anaconda/envs/azureml_py38/lib/python3.8/site-packages (from mlflow->-r xgboost_classification_mlflow.txt (line 2)) (1.7.7)\nRequirement already satisfied: gunicorn; platform_system != \"Windows\" in /anaconda/envs/azureml_py38/lib/python3.8/site-packages (from mlflow->-r xgboost_classification_mlflow.txt (line 2)) (20.1.0)\nRequirement already satisfied: cloudpickle in /anaconda/envs/azureml_py38/lib/python3.8/site-packages (from mlflow->-r xgboost_classification_mlflow.txt (line 2)) (1.6.0)\nRequirement already satisfied: requests>=2.17.3 in /anaconda/envs/azureml_py38/lib/python3.8/site-packages (from mlflow->-r xgboost_classification_mlflow.txt (line 2)) (2.25.1)\nRequirement already satisfied: sqlparse>=0.3.1 in /anaconda/envs/azureml_py38/lib/python3.8/site-packages (from mlflow->-r xgboost_classification_mlflow.txt (line 2)) (0.4.2)\nRequirement already satisfied: pyyaml>=5.1 in /anaconda/envs/azureml_py38/lib/python3.8/site-packages (from mlflow->-r xgboost_classification_mlflow.txt (line 2)) (6.0)\nRequirement already satisfied: entrypoints in /anaconda/envs/azureml_py38/lib/python3.8/site-packages (from mlflow->-r xgboost_classification_mlflow.txt (line 2)) (0.4)\nRequirement already satisfied: importlib-metadata!=4.7.0,>=3.7.0 in /anaconda/envs/azureml_py38/lib/python3.8/site-packages (from mlflow->-r xgboost_classification_mlflow.txt (line 2)) (4.11.3)\nRequirement already satisfied: Flask in /anaconda/envs/azureml_py38/lib/python3.8/site-packages (from mlflow->-r xgboost_classification_mlflow.txt (line 2)) (1.1.4)\nRequirement already satisfied: prometheus-flask-exporter in /anaconda/envs/azureml_py38/lib/python3.8/site-packages (from mlflow->-r xgboost_classification_mlflow.txt (line 2)) (0.20.1)\nRequirement already satisfied: packaging in /anaconda/envs/azureml_py38/lib/python3.8/site-packages (from mlflow->-r xgboost_classification_mlflow.txt (line 2)) (21.3)\nRequirement already satisfied: sqlalchemy in /anaconda/envs/azureml_py38/lib/python3.8/site-packages (from mlflow->-r xgboost_classification_mlflow.txt (line 2)) (1.4.35)\nRequirement already satisfied: click>=7.0 in /anaconda/envs/azureml_py38/lib/python3.8/site-packages (from mlflow->-r xgboost_classification_mlflow.txt (line 2)) (7.1.2)\nRequirement already satisfied: gitpython>=2.1.0 in /anaconda/envs/azureml_py38/lib/python3.8/site-packages (from mlflow->-r xgboost_classification_mlflow.txt (line 2)) (3.1.27)\nRequirement already satisfied: protobuf>=3.7.0 in /anaconda/envs/azureml_py38/lib/python3.8/site-packages (from mlflow->-r xgboost_classification_mlflow.txt (line 2)) (3.19.4)\nRequirement already satisfied: databricks-cli>=0.8.7 in /anaconda/envs/azureml_py38/lib/python3.8/site-packages (from mlflow->-r xgboost_classification_mlflow.txt (line 2)) (0.16.4)\nRequirement already satisfied: docker>=4.0.0 in /anaconda/envs/azureml_py38/lib/python3.8/site-packages (from mlflow->-r xgboost_classification_mlflow.txt (line 2)) (5.0.3)\nRequirement already satisfied: pytz in /anaconda/envs/azureml_py38/lib/python3.8/site-packages (from mlflow->-r xgboost_classification_mlflow.txt (line 2)) (2019.3)\nRequirement already satisfied: jsonpickle in /anaconda/envs/azureml_py38/lib/python3.8/site-packages (from azureml-mlflow->-r xgboost_classification_mlflow.txt (line 3)) (2.1.0)\nRequirement already satisfied: mlflow-skinny in /anaconda/envs/azureml_py38/lib/python3.8/site-packages (from azureml-mlflow->-r xgboost_classification_mlflow.txt (line 3)) (1.24.0)\nRequirement already satisfied: azureml-core~=1.40.0 in /anaconda/envs/azureml_py38/lib/python3.8/site-packages (from azureml-mlflow->-r xgboost_classification_mlflow.txt (line 3)) (1.40.0)\nRequirement already satisfied: joblib>=0.11 in /anaconda/envs/azureml_py38/lib/python3.8/site-packages (from scikit-learn->-r xgboost_classification_mlflow.txt (line 4)) (0.14.1)\nRequirement already satisfied: python-dateutil>=2.7.3 in /anaconda/envs/azureml_py38/lib/python3.8/site-packages (from pandas->-r xgboost_classification_mlflow.txt (line 5)) (2.8.2)\nRequirement already satisfied: pyparsing!=2.0.4,!=2.1.2,!=2.1.6,>=2.0.1 in /anaconda/envs/azureml_py38/lib/python3.8/site-packages (from matplotlib->-r xgboost_classification_mlflow.txt (line 7)) (2.4.7)\nRequirement already satisfied: cycler>=0.10 in /anaconda/envs/azureml_py38/lib/python3.8/site-packages (from matplotlib->-r xgboost_classification_mlflow.txt (line 7)) (0.11.0)\nRequirement already satisfied: kiwisolver>=1.0.1 in /anaconda/envs/azureml_py38/lib/python3.8/site-packages (from matplotlib->-r xgboost_classification_mlflow.txt (line 7)) (1.4.2)\nRequirement already satisfied: six in /anaconda/envs/azureml_py38/lib/python3.8/site-packages (from querystring-parser->mlflow->-r xgboost_classification_mlflow.txt (line 2)) (1.16.0)\nRequirement already satisfied: importlib-resources; python_version < \"3.9\" in /anaconda/envs/azureml_py38/lib/python3.8/site-packages (from alembic->mlflow->-r xgboost_classification_mlflow.txt (line 2)) (5.6.0)\nRequirement already satisfied: Mako in /anaconda/envs/azureml_py38/lib/python3.8/site-packages (from alembic->mlflow->-r xgboost_classification_mlflow.txt (line 2)) (1.2.0)\nRequirement already satisfied: setuptools>=3.0 in /anaconda/envs/azureml_py38/lib/python3.8/site-packages (from gunicorn; platform_system != \"Windows\"->mlflow->-r xgboost_classification_mlflow.txt (line 2)) (49.6.0)\nRequirement already satisfied: urllib3<1.27,>=1.21.1 in /anaconda/envs/azureml_py38/lib/python3.8/site-packages (from requests>=2.17.3->mlflow->-r xgboost_classification_mlflow.txt (line 2)) (1.26.7)\nRequirement already satisfied: idna<3,>=2.5 in /anaconda/envs/azureml_py38/lib/python3.8/site-packages (from requests>=2.17.3->mlflow->-r xgboost_classification_mlflow.txt (line 2)) (2.10)\nRequirement already satisfied: chardet<5,>=3.0.2 in /anaconda/envs/azureml_py38/lib/python3.8/site-packages (from requests>=2.17.3->mlflow->-r xgboost_classification_mlflow.txt (line 2)) (3.0.4)\nRequirement already satisfied: certifi>=2017.4.17 in /anaconda/envs/azureml_py38/lib/python3.8/site-packages (from requests>=2.17.3->mlflow->-r xgboost_classification_mlflow.txt (line 2)) (2021.10.8)\nRequirement already satisfied: zipp>=0.5 in /anaconda/envs/azureml_py38/lib/python3.8/site-packages (from importlib-metadata!=4.7.0,>=3.7.0->mlflow->-r xgboost_classification_mlflow.txt (line 2)) (3.7.0)\nRequirement already satisfied: Werkzeug<2.0,>=0.15 in /anaconda/envs/azureml_py38/lib/python3.8/site-packages (from Flask->mlflow->-r xgboost_classification_mlflow.txt (line 2)) (1.0.1)\nRequirement already satisfied: itsdangerous<2.0,>=0.24 in /anaconda/envs/azureml_py38/lib/python3.8/site-packages (from Flask->mlflow->-r xgboost_classification_mlflow.txt (line 2)) (1.1.0)\nRequirement already satisfied: Jinja2<3.0,>=2.10.1 in /anaconda/envs/azureml_py38/lib/python3.8/site-packages (from Flask->mlflow->-r xgboost_classification_mlflow.txt (line 2)) (2.11.3)\nRequirement already satisfied: prometheus-client in /anaconda/envs/azureml_py38/lib/python3.8/site-packages (from prometheus-flask-exporter->mlflow->-r xgboost_classification_mlflow.txt (line 2)) (0.13.1)\nRequirement already satisfied: greenlet!=0.4.17; python_version >= \"3\" and (platform_machine == \"aarch64\" or (platform_machine == \"ppc64le\" or (platform_machine == \"x86_64\" or (platform_machine == \"amd64\" or (platform_machine == \"AMD64\" or (platform_machine == \"win32\" or platform_machine == \"WIN32\")))))) in /anaconda/envs/azureml_py38/lib/python3.8/site-packages (from sqlalchemy->mlflow->-r xgboost_classification_mlflow.txt (line 2)) (1.1.2)\nRequirement already satisfied: gitdb<5,>=4.0.1 in /anaconda/envs/azureml_py38/lib/python3.8/site-packages (from gitpython>=2.1.0->mlflow->-r xgboost_classification_mlflow.txt (line 2)) (4.0.9)\nRequirement already satisfied: tabulate>=0.7.7 in /anaconda/envs/azureml_py38/lib/python3.8/site-packages (from databricks-cli>=0.8.7->mlflow->-r xgboost_classification_mlflow.txt (line 2)) (0.8.9)\nRequirement already satisfied: websocket-client>=0.32.0 in /anaconda/envs/azureml_py38/lib/python3.8/site-packages (from docker>=4.0.0->mlflow->-r xgboost_classification_mlflow.txt (line 2)) (1.3.1)\nRequirement already satisfied: msrest<1.0.0,>=0.5.1 in /anaconda/envs/azureml_py38/lib/python3.8/site-packages (from azureml-core~=1.40.0->azureml-mlflow->-r xgboost_classification_mlflow.txt (line 3)) (0.6.21)\nRequirement already satisfied: pyopenssl<22.0.0 in /anaconda/envs/azureml_py38/lib/python3.8/site-packages (from azureml-core~=1.40.0->azureml-mlflow->-r xgboost_classification_mlflow.txt (line 3)) (21.0.0)\nRequirement already satisfied: humanfriendly<11.0,>=4.7 in /anaconda/envs/azureml_py38/lib/python3.8/site-packages (from azureml-core~=1.40.0->azureml-mlflow->-r xgboost_classification_mlflow.txt (line 3)) (10.0)\nRequirement already satisfied: azure-mgmt-authorization<1.0.0,>=0.40.0 in /anaconda/envs/azureml_py38/lib/python3.8/site-packages (from azureml-core~=1.40.0->azureml-mlflow->-r xgboost_classification_mlflow.txt (line 3)) (0.61.0)\nCollecting azure-core<1.22\n  Downloading azure_core-1.21.1-py2.py3-none-any.whl (178 kB)\n\u001b[K     |████████████████████████████████| 178 kB 18.8 MB/s eta 0:00:01\n\u001b[?25hRequirement already satisfied: jmespath<1.0.0 in /anaconda/envs/azureml_py38/lib/python3.8/site-packages (from azureml-core~=1.40.0->azureml-mlflow->-r xgboost_classification_mlflow.txt (line 3)) (0.10.0)\nRequirement already satisfied: contextlib2<22.0.0 in /anaconda/envs/azureml_py38/lib/python3.8/site-packages (from azureml-core~=1.40.0->azureml-mlflow->-r xgboost_classification_mlflow.txt (line 3)) (21.6.0)\nRequirement already satisfied: msal<2.0.0,>=1.15.0 in /anaconda/envs/azureml_py38/lib/python3.8/site-packages (from azureml-core~=1.40.0->azureml-mlflow->-r xgboost_classification_mlflow.txt (line 3)) (1.17.0)\nRequirement already satisfied: backports.tempfile in /anaconda/envs/azureml_py38/lib/python3.8/site-packages (from azureml-core~=1.40.0->azureml-mlflow->-r xgboost_classification_mlflow.txt (line 3)) (1.0)\nRequirement already satisfied: adal<=1.2.7,>=1.2.0 in /anaconda/envs/azureml_py38/lib/python3.8/site-packages (from azureml-core~=1.40.0->azureml-mlflow->-r xgboost_classification_mlflow.txt (line 3)) (1.2.7)\nRequirement already satisfied: pkginfo in /anaconda/envs/azureml_py38/lib/python3.8/site-packages (from azureml-core~=1.40.0->azureml-mlflow->-r xgboost_classification_mlflow.txt (line 3)) (1.8.2)\nRequirement already satisfied: azure-mgmt-containerregistry<9.0.0,>=8.2.0 in /anaconda/envs/azureml_py38/lib/python3.8/site-packages (from azureml-core~=1.40.0->azureml-mlflow->-r xgboost_classification_mlflow.txt (line 3)) (8.2.0)\nRequirement already satisfied: cryptography!=1.9,!=2.0.*,!=2.1.*,!=2.2.*,<37.0.0 in /anaconda/envs/azureml_py38/lib/python3.8/site-packages (from azureml-core~=1.40.0->azureml-mlflow->-r xgboost_classification_mlflow.txt (line 3)) (36.0.2)\nRequirement already satisfied: azure-mgmt-keyvault<10.0.0,>=0.40.0 in /anaconda/envs/azureml_py38/lib/python3.8/site-packages (from azureml-core~=1.40.0->azureml-mlflow->-r xgboost_classification_mlflow.txt (line 3)) (9.3.0)\nRequirement already satisfied: msrestazure<=0.6.4,>=0.4.33 in /anaconda/envs/azureml_py38/lib/python3.8/site-packages (from azureml-core~=1.40.0->azureml-mlflow->-r xgboost_classification_mlflow.txt (line 3)) (0.6.4)\nRequirement already satisfied: pathspec<1.0.0 in /anaconda/envs/azureml_py38/lib/python3.8/site-packages (from azureml-core~=1.40.0->azureml-mlflow->-r xgboost_classification_mlflow.txt (line 3)) (0.9.0)\nRequirement already satisfied: knack~=0.9.0 in /anaconda/envs/azureml_py38/lib/python3.8/site-packages (from azureml-core~=1.40.0->azureml-mlflow->-r xgboost_classification_mlflow.txt (line 3)) (0.9.0)\nRequirement already satisfied: azure-common<2.0.0,>=1.1.12 in /anaconda/envs/azureml_py38/lib/python3.8/site-packages (from azureml-core~=1.40.0->azureml-mlflow->-r xgboost_classification_mlflow.txt (line 3)) (1.1.28)\nRequirement already satisfied: azure-mgmt-storage<20.0.0,>=16.0.0 in /anaconda/envs/azureml_py38/lib/python3.8/site-packages (from azureml-core~=1.40.0->azureml-mlflow->-r xgboost_classification_mlflow.txt (line 3)) (19.1.0)\nRequirement already satisfied: azure-graphrbac<1.0.0,>=0.40.0 in /anaconda/envs/azureml_py38/lib/python3.8/site-packages (from azureml-core~=1.40.0->azureml-mlflow->-r xgboost_classification_mlflow.txt (line 3)) (0.61.1)\nRequirement already satisfied: paramiko<3.0.0,>=2.0.8 in /anaconda/envs/azureml_py38/lib/python3.8/site-packages (from azureml-core~=1.40.0->azureml-mlflow->-r xgboost_classification_mlflow.txt (line 3)) (2.10.3)\nRequirement already satisfied: SecretStorage<4.0.0 in /anaconda/envs/azureml_py38/lib/python3.8/site-packages (from azureml-core~=1.40.0->azureml-mlflow->-r xgboost_classification_mlflow.txt (line 3)) (3.3.1)\nRequirement already satisfied: azure-mgmt-resource<21.0.0,>=15.0.0 in /anaconda/envs/azureml_py38/lib/python3.8/site-packages (from azureml-core~=1.40.0->azureml-mlflow->-r xgboost_classification_mlflow.txt (line 3)) (20.1.0)\nRequirement already satisfied: msal-extensions<0.4,>=0.3.0 in /anaconda/envs/azureml_py38/lib/python3.8/site-packages (from azureml-core~=1.40.0->azureml-mlflow->-r xgboost_classification_mlflow.txt (line 3)) (0.3.1)\nRequirement already satisfied: ndg-httpsclient<=0.5.1 in /anaconda/envs/azureml_py38/lib/python3.8/site-packages (from azureml-core~=1.40.0->azureml-mlflow->-r xgboost_classification_mlflow.txt (line 3)) (0.5.1)\nRequirement already satisfied: argcomplete<2.0 in /anaconda/envs/azureml_py38/lib/python3.8/site-packages (from azureml-core~=1.40.0->azureml-mlflow->-r xgboost_classification_mlflow.txt (line 3)) (1.12.3)\nRequirement already satisfied: PyJWT<3.0.0 in /anaconda/envs/azureml_py38/lib/python3.8/site-packages (from azureml-core~=1.40.0->azureml-mlflow->-r xgboost_classification_mlflow.txt (line 3)) (2.3.0)\nRequirement already satisfied: MarkupSafe>=0.9.2 in /anaconda/envs/azureml_py38/lib/python3.8/site-packages (from Mako->alembic->mlflow->-r xgboost_classification_mlflow.txt (line 2)) (2.0.1)\nRequirement already satisfied: smmap<6,>=3.0.1 in /anaconda/envs/azureml_py38/lib/python3.8/site-packages (from gitdb<5,>=4.0.1->gitpython>=2.1.0->mlflow->-r xgboost_classification_mlflow.txt (line 2)) (5.0.0)\nRequirement already satisfied: isodate>=0.6.0 in /anaconda/envs/azureml_py38/lib/python3.8/site-packages (from msrest<1.0.0,>=0.5.1->azureml-core~=1.40.0->azureml-mlflow->-r xgboost_classification_mlflow.txt (line 3)) (0.6.1)\nRequirement already satisfied: requests-oauthlib>=0.5.0 in /anaconda/envs/azureml_py38/lib/python3.8/site-packages (from msrest<1.0.0,>=0.5.1->azureml-core~=1.40.0->azureml-mlflow->-r xgboost_classification_mlflow.txt (line 3)) (1.3.1)\nRequirement already satisfied: backports.weakref in /anaconda/envs/azureml_py38/lib/python3.8/site-packages (from backports.tempfile->azureml-core~=1.40.0->azureml-mlflow->-r xgboost_classification_mlflow.txt (line 3)) (1.0.post1)\nRequirement already satisfied: azure-mgmt-core<2.0.0,>=1.2.0 in /anaconda/envs/azureml_py38/lib/python3.8/site-packages (from azure-mgmt-containerregistry<9.0.0,>=8.2.0->azureml-core~=1.40.0->azureml-mlflow->-r xgboost_classification_mlflow.txt (line 3)) (1.3.0)\nRequirement already satisfied: cffi>=1.12 in /anaconda/envs/azureml_py38/lib/python3.8/site-packages (from cryptography!=1.9,!=2.0.*,!=2.1.*,!=2.2.*,<37.0.0->azureml-core~=1.40.0->azureml-mlflow->-r xgboost_classification_mlflow.txt (line 3)) (1.15.0)\nRequirement already satisfied: pygments in /anaconda/envs/azureml_py38/lib/python3.8/site-packages (from knack~=0.9.0->azureml-core~=1.40.0->azureml-mlflow->-r xgboost_classification_mlflow.txt (line 3)) (2.11.2)\nRequirement already satisfied: pynacl>=1.0.1 in /anaconda/envs/azureml_py38/lib/python3.8/site-packages (from paramiko<3.0.0,>=2.0.8->azureml-core~=1.40.0->azureml-mlflow->-r xgboost_classification_mlflow.txt (line 3)) (1.5.0)\nRequirement already satisfied: bcrypt>=3.1.3 in /anaconda/envs/azureml_py38/lib/python3.8/site-packages (from paramiko<3.0.0,>=2.0.8->azureml-core~=1.40.0->azureml-mlflow->-r xgboost_classification_mlflow.txt (line 3)) (3.2.0)\nRequirement already satisfied: jeepney>=0.6 in /anaconda/envs/azureml_py38/lib/python3.8/site-packages (from SecretStorage<4.0.0->azureml-core~=1.40.0->azureml-mlflow->-r xgboost_classification_mlflow.txt (line 3)) (0.7.1)\nRequirement already satisfied: portalocker<3,>=1.0; python_version >= \"3.5\" and platform_system != \"Windows\" in /anaconda/envs/azureml_py38/lib/python3.8/site-packages (from msal-extensions<0.4,>=0.3.0->azureml-core~=1.40.0->azureml-mlflow->-r xgboost_classification_mlflow.txt (line 3)) (2.4.0)\nRequirement already satisfied: pyasn1>=0.1.1 in /anaconda/envs/azureml_py38/lib/python3.8/site-packages (from ndg-httpsclient<=0.5.1->azureml-core~=1.40.0->azureml-mlflow->-r xgboost_classification_mlflow.txt (line 3)) (0.4.8)\nRequirement already satisfied: oauthlib>=3.0.0 in /anaconda/envs/azureml_py38/lib/python3.8/site-packages (from requests-oauthlib>=0.5.0->msrest<1.0.0,>=0.5.1->azureml-core~=1.40.0->azureml-mlflow->-r xgboost_classification_mlflow.txt (line 3)) (3.2.0)\nRequirement already satisfied: pycparser in /anaconda/envs/azureml_py38/lib/python3.8/site-packages (from cffi>=1.12->cryptography!=1.9,!=2.0.*,!=2.1.*,!=2.2.*,<37.0.0->azureml-core~=1.40.0->azureml-mlflow->-r xgboost_classification_mlflow.txt (line 3)) (2.21)\n\u001b[31mERROR: azure-storage-file-share 12.8.0 has requirement azure-core<2.0.0,>=1.23.1, but you'll have azure-core 1.21.1 which is incompatible.\u001b[0m\n\u001b[31mERROR: azure-storage-file-datalake 12.6.0 has requirement azure-storage-blob<13.0.0,>=12.10.0, but you'll have azure-storage-blob 12.9.0 which is incompatible.\u001b[0m\n\u001b[31mERROR: azure-cli 2.35.0 has requirement antlr4-python3-runtime~=4.7.2, but you'll have antlr4-python3-runtime 4.9.3 which is incompatible.\u001b[0m\n\u001b[31mERROR: azure-cli 2.35.0 has requirement azure-graphrbac~=0.60.0, but you'll have azure-graphrbac 0.61.1 which is incompatible.\u001b[0m\n\u001b[31mERROR: azure-cli 2.35.0 has requirement azure-mgmt-resource==20.0.0, but you'll have azure-mgmt-resource 20.1.0 which is incompatible.\u001b[0m\n\u001b[31mERROR: azure-cli 2.35.0 has requirement azure-synapse-spark~=0.2.0, but you'll have azure-synapse-spark 0.7.0 which is incompatible.\u001b[0m\n\u001b[31mERROR: azure-cli 2.35.0 has requirement PyNaCl~=1.4.0, but you'll have pynacl 1.5.0 which is incompatible.\u001b[0m\n\u001b[31mERROR: azure-ai-ml 0.1.0b2 has requirement typing-extensions<4.0.0,>=3.10, but you'll have typing-extensions 4.3.0 which is incompatible.\u001b[0m\n\u001b[31mERROR: azure-ai-formrecognizer 3.2.0b6 has requirement azure-core<2.0.0,>=1.23.0, but you'll have azure-core 1.21.1 which is incompatible.\u001b[0m\nInstalling collected packages: azure-core\n  Attempting uninstall: azure-core\n    Found existing installation: azure-core 1.25.0\n    Uninstalling azure-core-1.25.0:\n      Successfully uninstalled azure-core-1.25.0\nSuccessfully installed azure-core-1.21.1\n"
        }
      ],
      "execution_count": 1,
      "metadata": {}
    },
    {
      "cell_type": "markdown",
      "source": [
        "# Set the experiment name"
      ],
      "metadata": {
        "nteract": {
          "transient": {
            "deleting": false
          }
        }
      }
    },
    {
      "cell_type": "code",
      "source": [
        "import mlflow\r\n",
        "experiment_name = 'heart-condition-classifier'\r\n",
        "\r\n",
        "mlflow.set_experiment(experiment_name=experiment_name)"
      ],
      "outputs": [
        {
          "output_type": "execute_result",
          "execution_count": 2,
          "data": {
            "text/plain": "<Experiment: artifact_location='', experiment_id='25040467-10f0-42f5-b376-521ef11d746c', lifecycle_stage='active', name='heart-condition-classifier', tags={}>"
          },
          "metadata": {}
        }
      ],
      "execution_count": 2,
      "metadata": {
        "jupyter": {
          "source_hidden": false,
          "outputs_hidden": false
        },
        "nteract": {
          "transient": {
            "deleting": false
          }
        }
      }
    },
    {
      "cell_type": "markdown",
      "source": [
        "# Get the workspace configuration"
      ],
      "metadata": {
        "nteract": {
          "transient": {
            "deleting": false
          }
        }
      }
    },
    {
      "cell_type": "code",
      "source": [
        "from azureml.core import Workspace, Dataset,Datastore\r\n",
        "import azureml.core\r\n",
        "\r\n",
        "ws = Workspace.from_config()\r\n",
        "print(ws.name, ws.resource_group, ws.location, ws.subscription_id, sep='\\n')"
      ],
      "outputs": [
        {
          "output_type": "error",
          "ename": "ImportError",
          "evalue": "cannot import name 'SerializationError' from 'azure.core.exceptions' (/anaconda/envs/azureml_py38/lib/python3.8/site-packages/azure/core/exceptions.py)",
          "traceback": [
            "\u001b[0;31m---------------------------------------------------------------------------\u001b[0m",
            "\u001b[0;31mImportError\u001b[0m                               Traceback (most recent call last)",
            "Input \u001b[0;32mIn [1]\u001b[0m, in \u001b[0;36m<cell line: 1>\u001b[0;34m()\u001b[0m\n\u001b[0;32m----> 1\u001b[0m \u001b[38;5;28;01mfrom\u001b[39;00m \u001b[38;5;21;01mazureml\u001b[39;00m\u001b[38;5;21;01m.\u001b[39;00m\u001b[38;5;21;01mcore\u001b[39;00m \u001b[38;5;28;01mimport\u001b[39;00m Workspace, Dataset,Datastore\n\u001b[1;32m      2\u001b[0m \u001b[38;5;28;01mimport\u001b[39;00m \u001b[38;5;21;01mazureml\u001b[39;00m\u001b[38;5;21;01m.\u001b[39;00m\u001b[38;5;21;01mcore\u001b[39;00m\n\u001b[1;32m      4\u001b[0m ws \u001b[38;5;241m=\u001b[39m Workspace\u001b[38;5;241m.\u001b[39mfrom_config()\n",
            "File \u001b[0;32m/anaconda/envs/azureml_py38/lib/python3.8/site-packages/azureml/core/__init__.py:13\u001b[0m, in \u001b[0;36m<module>\u001b[0;34m\u001b[0m\n\u001b[1;32m     10\u001b[0m \u001b[38;5;28;01mimport\u001b[39;00m \u001b[38;5;21;01mlogging\u001b[39;00m\n\u001b[1;32m     11\u001b[0m \u001b[38;5;28;01mimport\u001b[39;00m \u001b[38;5;21;01mpkg_resources\u001b[39;00m\n\u001b[0;32m---> 13\u001b[0m \u001b[38;5;28;01mfrom\u001b[39;00m \u001b[38;5;21;01m.\u001b[39;00m\u001b[38;5;21;01mworkspace\u001b[39;00m \u001b[38;5;28;01mimport\u001b[39;00m Workspace\n\u001b[1;32m     14\u001b[0m \u001b[38;5;28;01mfrom\u001b[39;00m \u001b[38;5;21;01m.\u001b[39;00m\u001b[38;5;21;01mexperiment\u001b[39;00m \u001b[38;5;28;01mimport\u001b[39;00m Experiment\n\u001b[1;32m     15\u001b[0m \u001b[38;5;28;01mfrom\u001b[39;00m \u001b[38;5;21;01m.\u001b[39;00m\u001b[38;5;21;01mrunconfig\u001b[39;00m \u001b[38;5;28;01mimport\u001b[39;00m RunConfiguration\n",
            "File \u001b[0;32m/anaconda/envs/azureml_py38/lib/python3.8/site-packages/azureml/core/workspace.py:22\u001b[0m, in \u001b[0;36m<module>\u001b[0;34m\u001b[0m\n\u001b[1;32m     19\u001b[0m \u001b[38;5;28;01mimport\u001b[39;00m \u001b[38;5;21;01mos\u001b[39;00m\n\u001b[1;32m     20\u001b[0m \u001b[38;5;28;01mfrom\u001b[39;00m \u001b[38;5;21;01moperator\u001b[39;00m \u001b[38;5;28;01mimport\u001b[39;00m attrgetter\n\u001b[0;32m---> 22\u001b[0m \u001b[38;5;28;01mfrom\u001b[39;00m \u001b[38;5;21;01mazureml\u001b[39;00m\u001b[38;5;21;01m.\u001b[39;00m\u001b[38;5;21;01m_project\u001b[39;00m \u001b[38;5;28;01mimport\u001b[39;00m _commands\n\u001b[1;32m     23\u001b[0m \u001b[38;5;28;01mfrom\u001b[39;00m \u001b[38;5;21;01mazureml\u001b[39;00m\u001b[38;5;21;01m.\u001b[39;00m\u001b[38;5;21;01m_file_utils\u001b[39;00m\u001b[38;5;21;01m.\u001b[39;00m\u001b[38;5;21;01mfile_utils\u001b[39;00m \u001b[38;5;28;01mimport\u001b[39;00m normalize_path, normalize_path_and_join, \\\n\u001b[1;32m     24\u001b[0m     check_and_create_dir, traverse_up_path_and_find_file, normalize_file_ext\n\u001b[1;32m     26\u001b[0m \u001b[38;5;66;03m# Az CLI converts the keys to camelCase and our tests assume that behavior,\u001b[39;00m\n\u001b[1;32m     27\u001b[0m \u001b[38;5;66;03m# so converting for the SDK too.\u001b[39;00m\n",
            "File \u001b[0;32m/anaconda/envs/azureml_py38/lib/python3.8/site-packages/azureml/_project/_commands.py:8\u001b[0m, in \u001b[0;36m<module>\u001b[0;34m\u001b[0m\n\u001b[1;32m      5\u001b[0m \u001b[38;5;28;01mimport\u001b[39;00m \u001b[38;5;21;01mos\u001b[39;00m\n\u001b[1;32m      6\u001b[0m \u001b[38;5;28;01mimport\u001b[39;00m \u001b[38;5;21;01mtime\u001b[39;00m\n\u001b[0;32m----> 8\u001b[0m \u001b[38;5;28;01mfrom\u001b[39;00m \u001b[38;5;21;01mazureml\u001b[39;00m\u001b[38;5;21;01m.\u001b[39;00m\u001b[38;5;21;01m_restclient\u001b[39;00m\u001b[38;5;21;01m.\u001b[39;00m\u001b[38;5;21;01mclientbase\u001b[39;00m \u001b[38;5;28;01mimport\u001b[39;00m ClientBase\n\u001b[1;32m      9\u001b[0m \u001b[38;5;28;01mfrom\u001b[39;00m \u001b[38;5;21;01mazure\u001b[39;00m\u001b[38;5;21;01m.\u001b[39;00m\u001b[38;5;21;01mcore\u001b[39;00m\u001b[38;5;21;01m.\u001b[39;00m\u001b[38;5;21;01mexceptions\u001b[39;00m \u001b[38;5;28;01mimport\u001b[39;00m HttpResponseError\n\u001b[1;32m     10\u001b[0m \u001b[38;5;28;01mfrom\u001b[39;00m \u001b[38;5;21;01mmsrest\u001b[39;00m\u001b[38;5;21;01m.\u001b[39;00m\u001b[38;5;21;01mauthentication\u001b[39;00m \u001b[38;5;28;01mimport\u001b[39;00m DomainCredentials\n",
            "File \u001b[0;32m/anaconda/envs/azureml_py38/lib/python3.8/site-packages/azureml/_restclient/__init__.py:7\u001b[0m, in \u001b[0;36m<module>\u001b[0;34m\u001b[0m\n\u001b[1;32m      1\u001b[0m \u001b[38;5;66;03m# ---------------------------------------------------------\u001b[39;00m\n\u001b[1;32m      2\u001b[0m \u001b[38;5;66;03m# Copyright (c) Microsoft Corporation. All rights reserved.\u001b[39;00m\n\u001b[1;32m      3\u001b[0m \u001b[38;5;66;03m# ---------------------------------------------------------\u001b[39;00m\n\u001b[1;32m      5\u001b[0m \u001b[38;5;124;03m\"\"\"Initialize _restclient.\"\"\"\u001b[39;00m\n\u001b[0;32m----> 7\u001b[0m \u001b[38;5;28;01mfrom\u001b[39;00m \u001b[38;5;21;01m.\u001b[39;00m\u001b[38;5;21;01mrest_client\u001b[39;00m \u001b[38;5;28;01mimport\u001b[39;00m RestClient\n\u001b[1;32m      8\u001b[0m \u001b[38;5;28;01mfrom\u001b[39;00m \u001b[38;5;21;01m.\u001b[39;00m\u001b[38;5;21;01mrun_client\u001b[39;00m \u001b[38;5;28;01mimport\u001b[39;00m RunClient\n\u001b[1;32m      9\u001b[0m \u001b[38;5;28;01mfrom\u001b[39;00m \u001b[38;5;21;01m.\u001b[39;00m\u001b[38;5;21;01mexperiment_client\u001b[39;00m \u001b[38;5;28;01mimport\u001b[39;00m ExperimentClient\n",
            "File \u001b[0;32m/anaconda/envs/azureml_py38/lib/python3.8/site-packages/azureml/_restclient/rest_client.py:12\u001b[0m, in \u001b[0;36m<module>\u001b[0;34m\u001b[0m\n\u001b[1;32m      1\u001b[0m \u001b[38;5;66;03m# coding=utf-8\u001b[39;00m\n\u001b[1;32m      2\u001b[0m \u001b[38;5;66;03m# --------------------------------------------------------------------------\u001b[39;00m\n\u001b[1;32m      3\u001b[0m \u001b[38;5;66;03m# Copyright (c) Microsoft Corporation. All rights reserved.\u001b[39;00m\n\u001b[0;32m   (...)\u001b[0m\n\u001b[1;32m      9\u001b[0m \u001b[38;5;66;03m# regenerated.\u001b[39;00m\n\u001b[1;32m     10\u001b[0m \u001b[38;5;66;03m# --------------------------------------------------------------------------\u001b[39;00m\n\u001b[0;32m---> 12\u001b[0m \u001b[38;5;28;01mfrom\u001b[39;00m \u001b[38;5;21;01mmsrest\u001b[39;00m\u001b[38;5;21;01m.\u001b[39;00m\u001b[38;5;21;01mservice_client\u001b[39;00m \u001b[38;5;28;01mimport\u001b[39;00m ServiceClient\n\u001b[1;32m     13\u001b[0m \u001b[38;5;28;01mfrom\u001b[39;00m \u001b[38;5;21;01mmsrest\u001b[39;00m \u001b[38;5;28;01mimport\u001b[39;00m Configuration, Serializer, Deserializer\n\u001b[1;32m     14\u001b[0m \u001b[38;5;28;01mfrom\u001b[39;00m \u001b[38;5;21;01m.\u001b[39;00m\u001b[38;5;21;01mversion\u001b[39;00m \u001b[38;5;28;01mimport\u001b[39;00m VERSION\n",
            "File \u001b[0;32m/anaconda/envs/azureml_py38/lib/python3.8/site-packages/msrest/__init__.py:28\u001b[0m, in \u001b[0;36m<module>\u001b[0;34m\u001b[0m\n\u001b[1;32m      1\u001b[0m \u001b[38;5;66;03m# --------------------------------------------------------------------------\u001b[39;00m\n\u001b[1;32m      2\u001b[0m \u001b[38;5;66;03m#\u001b[39;00m\n\u001b[1;32m      3\u001b[0m \u001b[38;5;66;03m# Copyright (c) Microsoft Corporation. All rights reserved.\u001b[39;00m\n\u001b[0;32m   (...)\u001b[0m\n\u001b[1;32m     24\u001b[0m \u001b[38;5;66;03m#\u001b[39;00m\n\u001b[1;32m     25\u001b[0m \u001b[38;5;66;03m# --------------------------------------------------------------------------\u001b[39;00m\n\u001b[1;32m     27\u001b[0m \u001b[38;5;28;01mfrom\u001b[39;00m \u001b[38;5;21;01m.\u001b[39;00m\u001b[38;5;21;01mversion\u001b[39;00m \u001b[38;5;28;01mimport\u001b[39;00m msrest_version\n\u001b[0;32m---> 28\u001b[0m \u001b[38;5;28;01mfrom\u001b[39;00m \u001b[38;5;21;01m.\u001b[39;00m\u001b[38;5;21;01mconfiguration\u001b[39;00m \u001b[38;5;28;01mimport\u001b[39;00m Configuration\n\u001b[1;32m     29\u001b[0m \u001b[38;5;28;01mfrom\u001b[39;00m \u001b[38;5;21;01m.\u001b[39;00m\u001b[38;5;21;01mservice_client\u001b[39;00m \u001b[38;5;28;01mimport\u001b[39;00m ServiceClient, SDKClient\n\u001b[1;32m     30\u001b[0m \u001b[38;5;28;01mfrom\u001b[39;00m \u001b[38;5;21;01m.\u001b[39;00m\u001b[38;5;21;01mserialization\u001b[39;00m \u001b[38;5;28;01mimport\u001b[39;00m Serializer, Deserializer\n",
            "File \u001b[0;32m/anaconda/envs/azureml_py38/lib/python3.8/site-packages/msrest/configuration.py:38\u001b[0m, in \u001b[0;36m<module>\u001b[0;34m\u001b[0m\n\u001b[1;32m     35\u001b[0m \u001b[38;5;28;01mfrom\u001b[39;00m \u001b[38;5;21;01mtyping\u001b[39;00m \u001b[38;5;28;01mimport\u001b[39;00m TYPE_CHECKING, Optional, Dict, List, Any, Callable, Union  \u001b[38;5;66;03m# pylint: disable=unused-import\u001b[39;00m\n\u001b[1;32m     37\u001b[0m \u001b[38;5;28;01mfrom\u001b[39;00m \u001b[38;5;21;01m.\u001b[39;00m\u001b[38;5;21;01mpipeline\u001b[39;00m \u001b[38;5;28;01mimport\u001b[39;00m Pipeline\n\u001b[0;32m---> 38\u001b[0m \u001b[38;5;28;01mfrom\u001b[39;00m \u001b[38;5;21;01m.\u001b[39;00m\u001b[38;5;21;01muniversal_http\u001b[39;00m\u001b[38;5;21;01m.\u001b[39;00m\u001b[38;5;21;01mrequests\u001b[39;00m \u001b[38;5;28;01mimport\u001b[39;00m (\n\u001b[1;32m     39\u001b[0m     RequestHTTPSenderConfiguration\n\u001b[1;32m     40\u001b[0m )\n\u001b[1;32m     41\u001b[0m \u001b[38;5;28;01mfrom\u001b[39;00m \u001b[38;5;21;01m.\u001b[39;00m\u001b[38;5;21;01mpipeline\u001b[39;00m\u001b[38;5;21;01m.\u001b[39;00m\u001b[38;5;21;01muniversal\u001b[39;00m \u001b[38;5;28;01mimport\u001b[39;00m (\n\u001b[1;32m     42\u001b[0m     UserAgentPolicy,\n\u001b[1;32m     43\u001b[0m     HTTPLogger,\n\u001b[1;32m     44\u001b[0m )\n\u001b[1;32m     46\u001b[0m \u001b[38;5;28;01mif\u001b[39;00m TYPE_CHECKING:\n",
            "File \u001b[0;32m/anaconda/envs/azureml_py38/lib/python3.8/site-packages/msrest/universal_http/__init__.py:53\u001b[0m, in \u001b[0;36m<module>\u001b[0;34m\u001b[0m\n\u001b[1;32m     47\u001b[0m \u001b[38;5;66;03m# This file is NOT using any \"requests\" HTTP implementation\u001b[39;00m\n\u001b[1;32m     48\u001b[0m \u001b[38;5;66;03m# However, the CaseInsensitiveDict is handy.\u001b[39;00m\n\u001b[1;32m     49\u001b[0m \u001b[38;5;66;03m# If one day we reach the point where \"requests\" can be skip totally,\u001b[39;00m\n\u001b[1;32m     50\u001b[0m \u001b[38;5;66;03m# might provide our own implementation\u001b[39;00m\n\u001b[1;32m     51\u001b[0m \u001b[38;5;28;01mfrom\u001b[39;00m \u001b[38;5;21;01mrequests\u001b[39;00m\u001b[38;5;21;01m.\u001b[39;00m\u001b[38;5;21;01mstructures\u001b[39;00m \u001b[38;5;28;01mimport\u001b[39;00m CaseInsensitiveDict\n\u001b[0;32m---> 53\u001b[0m \u001b[38;5;28;01mfrom\u001b[39;00m \u001b[38;5;21;01m.\u001b[39;00m\u001b[38;5;21;01m.\u001b[39;00m\u001b[38;5;21;01mexceptions\u001b[39;00m \u001b[38;5;28;01mimport\u001b[39;00m ClientRequestError, raise_with_traceback\n\u001b[1;32m     55\u001b[0m \u001b[38;5;28;01mif\u001b[39;00m TYPE_CHECKING:\n\u001b[1;32m     56\u001b[0m     \u001b[38;5;28;01mfrom\u001b[39;00m \u001b[38;5;21;01m.\u001b[39;00m\u001b[38;5;21;01m.\u001b[39;00m\u001b[38;5;21;01mserialization\u001b[39;00m \u001b[38;5;28;01mimport\u001b[39;00m Model  \u001b[38;5;66;03m# pylint: disable=unused-import\u001b[39;00m\n",
            "File \u001b[0;32m/anaconda/envs/azureml_py38/lib/python3.8/site-packages/msrest/exceptions.py:31\u001b[0m, in \u001b[0;36m<module>\u001b[0;34m\u001b[0m\n\u001b[1;32m     28\u001b[0m \u001b[38;5;28;01mimport\u001b[39;00m \u001b[38;5;21;01msys\u001b[39;00m\n\u001b[1;32m     30\u001b[0m \u001b[38;5;28;01mfrom\u001b[39;00m \u001b[38;5;21;01mtyping\u001b[39;00m \u001b[38;5;28;01mimport\u001b[39;00m Callable, Any, Optional, TYPE_CHECKING\n\u001b[0;32m---> 31\u001b[0m \u001b[38;5;28;01mfrom\u001b[39;00m \u001b[38;5;21;01mazure\u001b[39;00m\u001b[38;5;21;01m.\u001b[39;00m\u001b[38;5;21;01mcore\u001b[39;00m\u001b[38;5;21;01m.\u001b[39;00m\u001b[38;5;21;01mexceptions\u001b[39;00m \u001b[38;5;28;01mimport\u001b[39;00m SerializationError, DeserializationError\n\u001b[1;32m     33\u001b[0m _LOGGER \u001b[38;5;241m=\u001b[39m logging\u001b[38;5;241m.\u001b[39mgetLogger(\u001b[38;5;18m__name__\u001b[39m)\n\u001b[1;32m     36\u001b[0m \u001b[38;5;28;01mdef\u001b[39;00m \u001b[38;5;21mraise_with_traceback\u001b[39m(exception, message\u001b[38;5;241m=\u001b[39m\u001b[38;5;124m\"\u001b[39m\u001b[38;5;124m\"\u001b[39m, \u001b[38;5;241m*\u001b[39margs, \u001b[38;5;241m*\u001b[39m\u001b[38;5;241m*\u001b[39mkwargs):\n\u001b[1;32m     37\u001b[0m     \u001b[38;5;66;03m# type: (Callable, str, Any, Any) -> None\u001b[39;00m\n",
            "\u001b[0;31mImportError\u001b[0m: cannot import name 'SerializationError' from 'azure.core.exceptions' (/anaconda/envs/azureml_py38/lib/python3.8/site-packages/azure/core/exceptions.py)"
          ]
        }
      ],
      "execution_count": 1,
      "metadata": {
        "jupyter": {
          "source_hidden": false,
          "outputs_hidden": false
        },
        "nteract": {
          "transient": {
            "deleting": false
          }
        }
      }
    },
    {
      "cell_type": "markdown",
      "source": [
        "# Read from dataset that contains data from deltalake"
      ],
      "metadata": {
        "nteract": {
          "transient": {
            "deleting": false
          }
        }
      }
    },
    {
      "cell_type": "code",
      "source": [
        "dataset = Dataset.get_by_name(name='deltalake', workspace=ws,version='latest')\r\n",
        "df = dataset.to_pandas_dataframe()\r\n",
        "df\r\n",
        "\r\n",
        "\r\n",
        "ds2 = Datastore.get(ws, \"preview\")\r\n",
        "path_datastore = \"heart\"\r\n",
        "version_as_of = 0\r\n",
        "delta_lake_by_version_new = Dataset.Tabular.from_delta_lake(path=(ds2, path_datastore), version_as_of=version_as_of)\r\n",
        "\r\n",
        "print(delta_lake_by_version_new.to_pandas_dataframe())"
      ],
      "outputs": [
        {
          "output_type": "execute_result",
          "execution_count": 4,
          "data": {
            "text/plain": "     age  sex  cp  trestbps  chol  fbs  restecg  thalach  exang  oldpeak  \\\n0     63    1   1       145   233    1        2      150      0      2.3   \n1     67    1   4       160   286    0        2      108      1      1.5   \n2     67    1   4       120   229    0        2      129      1      2.6   \n3     37    1   3       130   250    0        0      187      0      3.5   \n4     41    0   2       130   204    0        2      172      0      1.4   \n..   ...  ...  ..       ...   ...  ...      ...      ...    ...      ...   \n298   52    1   1       118   186    0        2      190      0      0.0   \n299   43    0   4       132   341    1        2      136      1      3.0   \n300   65    1   4       135   254    0        2      127      0      2.8   \n301   48    1   4       130   256    1        2      150      1      0.0   \n302   63    0   4       150   407    0        2      154      0      4.0   \n\n     slope  ca        thal  target  \n0        3   0       fixed       0  \n1        2   3      normal       1  \n2        2   2  reversible       0  \n3        3   0      normal       0  \n4        1   0      normal       0  \n..     ...  ..         ...     ...  \n298      2   0       fixed       0  \n299      2   0  reversible       1  \n300      2   1  reversible       1  \n301      1   2  reversible       1  \n302      2   3  reversible       1  \n\n[303 rows x 14 columns]",
            "text/html": "<div>\n<style scoped>\n    .dataframe tbody tr th:only-of-type {\n        vertical-align: middle;\n    }\n\n    .dataframe tbody tr th {\n        vertical-align: top;\n    }\n\n    .dataframe thead th {\n        text-align: right;\n    }\n</style>\n<table border=\"1\" class=\"dataframe\">\n  <thead>\n    <tr style=\"text-align: right;\">\n      <th></th>\n      <th>age</th>\n      <th>sex</th>\n      <th>cp</th>\n      <th>trestbps</th>\n      <th>chol</th>\n      <th>fbs</th>\n      <th>restecg</th>\n      <th>thalach</th>\n      <th>exang</th>\n      <th>oldpeak</th>\n      <th>slope</th>\n      <th>ca</th>\n      <th>thal</th>\n      <th>target</th>\n    </tr>\n  </thead>\n  <tbody>\n    <tr>\n      <th>0</th>\n      <td>63</td>\n      <td>1</td>\n      <td>1</td>\n      <td>145</td>\n      <td>233</td>\n      <td>1</td>\n      <td>2</td>\n      <td>150</td>\n      <td>0</td>\n      <td>2.3</td>\n      <td>3</td>\n      <td>0</td>\n      <td>fixed</td>\n      <td>0</td>\n    </tr>\n    <tr>\n      <th>1</th>\n      <td>67</td>\n      <td>1</td>\n      <td>4</td>\n      <td>160</td>\n      <td>286</td>\n      <td>0</td>\n      <td>2</td>\n      <td>108</td>\n      <td>1</td>\n      <td>1.5</td>\n      <td>2</td>\n      <td>3</td>\n      <td>normal</td>\n      <td>1</td>\n    </tr>\n    <tr>\n      <th>2</th>\n      <td>67</td>\n      <td>1</td>\n      <td>4</td>\n      <td>120</td>\n      <td>229</td>\n      <td>0</td>\n      <td>2</td>\n      <td>129</td>\n      <td>1</td>\n      <td>2.6</td>\n      <td>2</td>\n      <td>2</td>\n      <td>reversible</td>\n      <td>0</td>\n    </tr>\n    <tr>\n      <th>3</th>\n      <td>37</td>\n      <td>1</td>\n      <td>3</td>\n      <td>130</td>\n      <td>250</td>\n      <td>0</td>\n      <td>0</td>\n      <td>187</td>\n      <td>0</td>\n      <td>3.5</td>\n      <td>3</td>\n      <td>0</td>\n      <td>normal</td>\n      <td>0</td>\n    </tr>\n    <tr>\n      <th>4</th>\n      <td>41</td>\n      <td>0</td>\n      <td>2</td>\n      <td>130</td>\n      <td>204</td>\n      <td>0</td>\n      <td>2</td>\n      <td>172</td>\n      <td>0</td>\n      <td>1.4</td>\n      <td>1</td>\n      <td>0</td>\n      <td>normal</td>\n      <td>0</td>\n    </tr>\n    <tr>\n      <th>...</th>\n      <td>...</td>\n      <td>...</td>\n      <td>...</td>\n      <td>...</td>\n      <td>...</td>\n      <td>...</td>\n      <td>...</td>\n      <td>...</td>\n      <td>...</td>\n      <td>...</td>\n      <td>...</td>\n      <td>...</td>\n      <td>...</td>\n      <td>...</td>\n    </tr>\n    <tr>\n      <th>298</th>\n      <td>52</td>\n      <td>1</td>\n      <td>1</td>\n      <td>118</td>\n      <td>186</td>\n      <td>0</td>\n      <td>2</td>\n      <td>190</td>\n      <td>0</td>\n      <td>0.0</td>\n      <td>2</td>\n      <td>0</td>\n      <td>fixed</td>\n      <td>0</td>\n    </tr>\n    <tr>\n      <th>299</th>\n      <td>43</td>\n      <td>0</td>\n      <td>4</td>\n      <td>132</td>\n      <td>341</td>\n      <td>1</td>\n      <td>2</td>\n      <td>136</td>\n      <td>1</td>\n      <td>3.0</td>\n      <td>2</td>\n      <td>0</td>\n      <td>reversible</td>\n      <td>1</td>\n    </tr>\n    <tr>\n      <th>300</th>\n      <td>65</td>\n      <td>1</td>\n      <td>4</td>\n      <td>135</td>\n      <td>254</td>\n      <td>0</td>\n      <td>2</td>\n      <td>127</td>\n      <td>0</td>\n      <td>2.8</td>\n      <td>2</td>\n      <td>1</td>\n      <td>reversible</td>\n      <td>1</td>\n    </tr>\n    <tr>\n      <th>301</th>\n      <td>48</td>\n      <td>1</td>\n      <td>4</td>\n      <td>130</td>\n      <td>256</td>\n      <td>1</td>\n      <td>2</td>\n      <td>150</td>\n      <td>1</td>\n      <td>0.0</td>\n      <td>1</td>\n      <td>2</td>\n      <td>reversible</td>\n      <td>1</td>\n    </tr>\n    <tr>\n      <th>302</th>\n      <td>63</td>\n      <td>0</td>\n      <td>4</td>\n      <td>150</td>\n      <td>407</td>\n      <td>0</td>\n      <td>2</td>\n      <td>154</td>\n      <td>0</td>\n      <td>4.0</td>\n      <td>2</td>\n      <td>3</td>\n      <td>reversible</td>\n      <td>1</td>\n    </tr>\n  </tbody>\n</table>\n<p>303 rows × 14 columns</p>\n</div>"
          },
          "metadata": {}
        }
      ],
      "execution_count": 4,
      "metadata": {
        "jupyter": {
          "source_hidden": false,
          "outputs_hidden": false
        },
        "nteract": {
          "transient": {
            "deleting": false
          }
        }
      }
    },
    {
      "cell_type": "markdown",
      "source": [
        "# Data quality"
      ],
      "metadata": {
        "nteract": {
          "transient": {
            "deleting": false
          }
        }
      }
    },
    {
      "cell_type": "code",
      "source": [
        "df[\"thal\"] = df[\"thal\"].astype(\"category\").cat.codes"
      ],
      "outputs": [],
      "execution_count": 5,
      "metadata": {
        "jupyter": {
          "source_hidden": false,
          "outputs_hidden": false
        },
        "nteract": {
          "transient": {
            "deleting": false
          }
        }
      }
    },
    {
      "cell_type": "code",
      "source": [
        "df[\"thal\"].unique()"
      ],
      "outputs": [
        {
          "output_type": "execute_result",
          "execution_count": 6,
          "data": {
            "text/plain": "array([2, 3, 4, 0, 1], dtype=int8)"
          },
          "metadata": {}
        }
      ],
      "execution_count": 6,
      "metadata": {
        "jupyter": {
          "source_hidden": false,
          "outputs_hidden": false
        },
        "nteract": {
          "transient": {
            "deleting": false
          }
        }
      }
    },
    {
      "cell_type": "code",
      "source": [
        "from sklearn.model_selection import train_test_split\r\n",
        "\r\n",
        "X_train, X_test, y_train, y_test = train_test_split(\r\n",
        "    df.drop(\"target\", axis=1), df[\"target\"], test_size=0.3\r\n",
        ")"
      ],
      "outputs": [],
      "execution_count": 7,
      "metadata": {
        "jupyter": {
          "source_hidden": false,
          "outputs_hidden": false
        },
        "nteract": {
          "transient": {
            "deleting": false
          }
        }
      }
    },
    {
      "cell_type": "markdown",
      "source": [
        "#  Use MLflow in AML in the same way as you're used to. Similiar to ADB"
      ],
      "metadata": {
        "nteract": {
          "transient": {
            "deleting": false
          }
        }
      }
    },
    {
      "cell_type": "code",
      "source": [
        "mlflow.xgboost.autolog()"
      ],
      "outputs": [],
      "execution_count": 8,
      "metadata": {
        "jupyter": {
          "source_hidden": false,
          "outputs_hidden": false
        },
        "nteract": {
          "transient": {
            "deleting": false
          }
        }
      }
    },
    {
      "cell_type": "code",
      "source": [
        "from xgboost import XGBClassifier\r\n",
        "from sklearn.metrics import accuracy_score, recall_score\r\n",
        "\r\n",
        "model = XGBClassifier(use_label_encoder=False, eval_metric=\"logloss\")"
      ],
      "outputs": [],
      "execution_count": 9,
      "metadata": {
        "jupyter": {
          "source_hidden": false,
          "outputs_hidden": false
        },
        "nteract": {
          "transient": {
            "deleting": false
          }
        }
      }
    },
    {
      "cell_type": "code",
      "source": [
        "with mlflow.start_run() as run:\r\n",
        "    model.fit(X_train, y_train, eval_set=[(X_test, y_test)], verbose=False)\r\n",
        "\r\n",
        "    y_pred = model.predict(X_test)\r\n",
        "\r\n",
        "    accuracy = accuracy_score(y_test, y_pred)\r\n",
        "    recall = recall_score(y_test, y_pred)\r\n",
        "\r\n",
        "    print(\"Accuracy: %.2f%%\" % (accuracy * 100.0))\r\n",
        "    print(\"Recall: %.2f%%\" % (recall * 100.0))"
      ],
      "outputs": [
        {
          "output_type": "stream",
          "name": "stderr",
          "text": "2022/08/31 05:34:34 WARNING mlflow.utils.autologging_utils: MLflow autologging encountered a warning: \"/anaconda/envs/azureml_py38/lib/python3.8/site-packages/mlflow/models/signature.py:129: UserWarning: Hint: Inferred schema contains integer column(s). Integer columns in Python cannot represent missing values. If your input data contains missing values at inference time, it will be encoded as floats and will cause a schema enforcement error. The best way to avoid this problem is to infer the model schema based on a realistic data sample (training dataset) that includes missing values. Alternatively, you can declare integer columns as doubles (float64) whenever these columns may have missing values. See `Handling Integers With Missing Values <https://www.mlflow.org/docs/latest/models.html#handling-integers-with-missing-values>`_ for more details.\"\n2022/08/31 05:34:42 WARNING mlflow.utils.autologging_utils: Encountered unexpected error during xgboost autologging: AzureMLException:\n\tMessage: UserError: Resource Conflict: ArtifactId ExperimentRun/dcid.636e7e0a-0ac8-4dff-8210-78d2ed335ed6/metric_info.json already exists.\n\tInnerException None\n\tErrorResponse \n{\n    \"error\": {\n        \"message\": \"UserError: Resource Conflict: ArtifactId ExperimentRun/dcid.636e7e0a-0ac8-4dff-8210-78d2ed335ed6/metric_info.json already exists.\"\n    }\n}\n"
        },
        {
          "output_type": "stream",
          "name": "stdout",
          "text": "Accuracy: 89.01%\nRecall: 66.67%\n"
        }
      ],
      "execution_count": 10,
      "metadata": {
        "jupyter": {
          "source_hidden": false,
          "outputs_hidden": false
        },
        "nteract": {
          "transient": {
            "deleting": false
          }
        }
      }
    },
    {
      "cell_type": "markdown",
      "source": [
        "#  Register the MLFlow model in AML model registery"
      ],
      "metadata": {
        "nteract": {
          "transient": {
            "deleting": false
          }
        }
      }
    },
    {
      "cell_type": "code",
      "source": [
        "run.info.run_id"
      ],
      "outputs": [
        {
          "output_type": "execute_result",
          "execution_count": 11,
          "data": {
            "text/plain": "'636e7e0a-0ac8-4dff-8210-78d2ed335ed6'"
          },
          "metadata": {}
        }
      ],
      "execution_count": 11,
      "metadata": {
        "jupyter": {
          "source_hidden": false,
          "outputs_hidden": false
        },
        "nteract": {
          "transient": {
            "deleting": false
          }
        }
      }
    },
    {
      "cell_type": "code",
      "source": [
        "model_name='databricks-heart-classifier'\r\n",
        "mlflow.register_model(f\"runs:/{run.info.run_id}/model\", model_name)"
      ],
      "outputs": [
        {
          "output_type": "stream",
          "name": "stderr",
          "text": "Registered model 'databricks-heart-classifier' already exists. Creating a new version of this model...\n2022/08/24 07:27:49 INFO mlflow.tracking._model_registry.client: Waiting up to 300 seconds for model version to finish creation.                     Model name: databricks-heart-classifier, version 3\nCreated version '3' of model 'databricks-heart-classifier'.\n"
        },
        {
          "output_type": "execute_result",
          "execution_count": 16,
          "data": {
            "text/plain": "<ModelVersion: creation_timestamp=1661326068486, current_stage='None', description='', last_updated_timestamp=1661326068486, name='databricks-heart-classifier', run_id='cf5a7156-4148-4af5-95d3-ae2e366c79eb', run_link='', source='azureml://experiments/heart-condition-classifier/runs/cf5a7156-4148-4af5-95d3-ae2e366c79eb/artifacts/model', status='READY', status_message='', tags={}, user_id='', version='3'>"
          },
          "metadata": {}
        }
      ],
      "execution_count": 16,
      "metadata": {
        "jupyter": {
          "source_hidden": false,
          "outputs_hidden": false
        },
        "nteract": {
          "transient": {
            "deleting": false
          }
        }
      }
    },
    {
      "cell_type": "markdown",
      "source": [
        "#  Register the dataset to the model"
      ],
      "metadata": {
        "nteract": {
          "transient": {
            "deleting": false
          }
        }
      }
    },
    {
      "cell_type": "code",
      "source": [
        "from azureml.core.model import Model\r\n",
        "model = Model(ws, model_name)\r\n",
        "print('Name:', model.name)\r\n",
        "print('Version:', model.version)"
      ],
      "outputs": [
        {
          "output_type": "stream",
          "name": "stdout",
          "text": "Name: databricks-heart-classifier\nVersion: 3\n"
        }
      ],
      "execution_count": 18,
      "metadata": {
        "jupyter": {
          "source_hidden": false,
          "outputs_hidden": false
        },
        "nteract": {
          "transient": {
            "deleting": false
          }
        }
      }
    },
    {
      "cell_type": "code",
      "source": [
        "model.add_dataset_references(dataset)"
      ],
      "outputs": [],
      "execution_count": null,
      "metadata": {
        "jupyter": {
          "source_hidden": false,
          "outputs_hidden": false
        },
        "nteract": {
          "transient": {
            "deleting": false
          }
        }
      }
    }
  ],
  "metadata": {
    "kernelspec": {
      "name": "python38-azureml",
      "language": "python",
      "display_name": "Python 3.8 - AzureML"
    },
    "language_info": {
      "name": "python",
      "version": "3.8.5",
      "mimetype": "text/x-python",
      "codemirror_mode": {
        "name": "ipython",
        "version": 3
      },
      "pygments_lexer": "ipython3",
      "nbconvert_exporter": "python",
      "file_extension": ".py"
    },
    "kernel_info": {
      "name": "python38-azureml"
    },
    "nteract": {
      "version": "nteract-front-end@1.0.0"
    }
  },
  "nbformat": 4,
  "nbformat_minor": 0
}